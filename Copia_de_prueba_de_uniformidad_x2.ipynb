{
  "nbformat": 4,
  "nbformat_minor": 0,
  "metadata": {
    "colab": {
      "provenance": [],
      "authorship_tag": "ABX9TyPaydoRP1b8vEa6PF55gYNp",
      "include_colab_link": true
    },
    "kernelspec": {
      "name": "python3",
      "display_name": "Python 3"
    },
    "language_info": {
      "name": "python"
    }
  },
  "cells": [
    {
      "cell_type": "markdown",
      "metadata": {
        "id": "view-in-github",
        "colab_type": "text"
      },
      "source": [
        "<a href=\"https://colab.research.google.com/github/jovanneconde/simulacion-II/blob/main/Copia_de_prueba_de_uniformidad_x2.ipynb\" target=\"_parent\"><img src=\"https://colab.research.google.com/assets/colab-badge.svg\" alt=\"Open In Colab\"/></a>"
      ]
    },
    {
      "cell_type": "code",
      "source": [
        "from numpy.core.fromnumeric import sort\n",
        "import numpy as np\n",
        "\n",
        "# Crear un arreglo a partir de una lista de valores\n",
        "arr = np.array((0.8797, 0.3884, 0.6289, 0.8750,0.5999, 0.8589, 0.9996, 0.2415, 0.3808, 0.9606, 0.9848, 0.3469, 0.7977, 0.5844, 0.8147, 0.6431, 0.7387, 0.5613, 0.0318, 0.7401, 0.4557, 0.1592, 0.8536, 0.8846, 0.3410, 0.1492, 0.8681, 0.5291, 0.3188, 0.5992, 0.9170, 0.2204, 0.5991, 0.5461, 0.5739, 0.3254, 0.0856, 0.2258, 0.4603, 0.5027, 0.8376, 0.6235, 0.3681, 0.2088, 0.1525, 0.2006, 0.4720, 0.4272, 0.6360, 0.0954))\n",
        "frec=[]\n",
        "#ordenar la lista \n",
        "arr.sort()\n",
        "a=arr[0] \n",
        "b=arr[-1]\n",
        "s=0\n",
        "print(arr,a,b)\n",
        "#crear tabla de frecuencias de los datos segun m=raiz(n)\n",
        "m=np.sqrt(len(arr))\n",
        "intervalo=abs((a-b)/int(m))\n",
        "#print(intervalo,int(m))\n",
        "for i in range(len(arr)):\n",
        "  if (arr[i]< a+intervalo):\n",
        "    print (i,arr[i])\n",
        "    s+=1\n",
        "  else :\n",
        "    frec.append(s)\n",
        "    a=a+intervalo\n",
        "    print (a ,'\\n')\n",
        "    s=0\n",
        "frec.append(s)\n",
        "print (frec)"
      ],
      "metadata": {
        "id": "CP6XtJ83w5g0",
        "outputId": "4c7730ba-7237-4fc1-ab3e-f05adbf3e509",
        "colab": {
          "base_uri": "https://localhost:8080/"
        }
      },
      "execution_count": null,
      "outputs": [
        {
          "output_type": "stream",
          "name": "stdout",
          "text": [
            "[0.0318 0.0856 0.0954 0.1492 0.1525 0.1592 0.2006 0.2088 0.2204 0.2258\n",
            " 0.2415 0.3188 0.3254 0.341  0.3469 0.3681 0.3808 0.3884 0.4272 0.4557\n",
            " 0.4603 0.472  0.5027 0.5291 0.5461 0.5613 0.5739 0.5844 0.5991 0.5992\n",
            " 0.5999 0.6235 0.6289 0.636  0.6431 0.7387 0.7401 0.7977 0.8147 0.8376\n",
            " 0.8536 0.8589 0.8681 0.875  0.8797 0.8846 0.917  0.9606 0.9848 0.9996] 0.0318 0.9996\n",
            "0 0.0318\n",
            "1 0.0856\n",
            "2 0.0954\n",
            "3 0.1492\n",
            "4 0.1525\n",
            "5 0.1592\n",
            "0.17005714285714285 \n",
            "\n",
            "7 0.2088\n",
            "8 0.2204\n",
            "9 0.2258\n",
            "10 0.2415\n",
            "0.3083142857142857 \n",
            "\n",
            "12 0.3254\n",
            "13 0.341\n",
            "14 0.3469\n",
            "15 0.3681\n",
            "16 0.3808\n",
            "17 0.3884\n",
            "18 0.4272\n",
            "0.44657142857142856 \n",
            "\n",
            "20 0.4603\n",
            "21 0.472\n",
            "22 0.5027\n",
            "23 0.5291\n",
            "24 0.5461\n",
            "25 0.5613\n",
            "26 0.5739\n",
            "27 0.5844\n",
            "0.5848285714285715 \n",
            "\n",
            "29 0.5992\n",
            "30 0.5999\n",
            "31 0.6235\n",
            "32 0.6289\n",
            "33 0.636\n",
            "34 0.6431\n",
            "0.7230857142857143 \n",
            "\n",
            "36 0.7401\n",
            "37 0.7977\n",
            "38 0.8147\n",
            "39 0.8376\n",
            "40 0.8536\n",
            "41 0.8589\n",
            "0.8613428571428572 \n",
            "\n",
            "43 0.875\n",
            "44 0.8797\n",
            "45 0.8846\n",
            "46 0.917\n",
            "47 0.9606\n",
            "48 0.9848\n",
            "0.9996 \n",
            "\n",
            "[6, 4, 7, 8, 6, 6, 6, 0]\n"
          ]
        }
      ]
    },
    {
      "cell_type": "markdown",
      "source": [
        "# Sección nueva"
      ],
      "metadata": {
        "id": "O6nGH7J4my_9"
      }
    },
    {
      "cell_type": "code",
      "source": [
        "import numpy as np\n",
        "from scipy.stats import chi2\n",
        "\n",
        "# Datos observados\n",
        "observed = np.array([68, 52, 25, 30, 20, 5])\n",
        "\n",
        "# Datos esperados\n",
        "expected = np.array([70, 50, 30, 20, 10, 5])\n",
        "\n",
        "# Calcula la chi cuadrada\n",
        "chi_squared_statistic = np.sum((observed - expected)**2 / expected)\n",
        "\n",
        "# Grados de libertad\n",
        "degrees_of_freedom = len(observed) - 1\n",
        "\n",
        "# Calcula el valor p\n",
        "p_value = 1 - chi2.cdf(chi_squared_statistic, degrees_of_freedom)\n",
        "\n",
        "# Imprime los resultados\n",
        "print(\"Chi cuadrada estadística:\", chi_squared_statistic)\n",
        "print(\"Grados de libertad:\", degrees_of_freedom)\n",
        "print(\"Valor p:\", p_value)\n"
      ],
      "metadata": {
        "id": "CseXtH9PuMl1",
        "outputId": "512277b2-66d0-42de-bb75-d16856091faf",
        "colab": {
          "base_uri": "https://localhost:8080/"
        }
      },
      "execution_count": null,
      "outputs": [
        {
          "output_type": "stream",
          "name": "stdout",
          "text": [
            "Chi cuadrada estadística: 15.970476190476191\n",
            "Grados de libertad: 5\n",
            "Valor p: 0.006928873176291428\n"
          ]
        }
      ]
    }
  ]
}