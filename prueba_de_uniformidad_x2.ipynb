{
  "nbformat": 4,
  "nbformat_minor": 0,
  "metadata": {
    "colab": {
      "provenance": [],
      "authorship_tag": "ABX9TyOkowgN0Zoxcwm/CPZkKQAR",
      "include_colab_link": true
    },
    "kernelspec": {
      "name": "python3",
      "display_name": "Python 3"
    },
    "language_info": {
      "name": "python"
    }
  },
  "cells": [
    {
      "cell_type": "markdown",
      "metadata": {
        "id": "view-in-github",
        "colab_type": "text"
      },
      "source": [
        "<a href=\"https://colab.research.google.com/github/jovanneconde/simulacion-II/blob/main/prueba_de_uniformidad_x2.ipynb\" target=\"_parent\"><img src=\"https://colab.research.google.com/assets/colab-badge.svg\" alt=\"Open In Colab\"/></a>"
      ]
    },
    {
      "cell_type": "code",
      "source": [
        "from numpy.core.fromnumeric import sort\n",
        "import numpy as np\n",
        "from scipy.stats import chi2\n",
        "\n",
        "# Crear un arreglo a partir de una lista de valores\n",
        "arr = np.array((0.8797, 0.3884, 0.6289, 0.8750,0.5999, 0.8589, 0.9996, 0.2415, 0.3808, 0.9606, 0.9848, 0.3469, 0.7977, 0.5844, 0.8147, 0.6431, 0.7387, 0.5613, 0.0318, 0.7401, 0.4557, 0.1592, 0.8536, 0.8846, 0.3410, 0.1492, 0.8681, 0.5291, 0.3188, 0.5992, 0.9170, 0.2204, 0.5991, 0.5461, 0.5739, 0.3254, 0.0856, 0.2258, 0.4603, 0.5027, 0.8376, 0.6235, 0.3681, 0.2088, 0.1525, 0.2006, 0.4720, 0.4272, 0.6360, 0.0954))\n",
        "frec=[]\n",
        "#ordenar la lista \n",
        "arr.sort()\n",
        "a=arr[0] \n",
        "b=arr[-1]\n",
        "n=len(arr)\n",
        "s=1\n",
        "c=0\n",
        "fei=0\n",
        "niv_conf=0.95\n",
        "#crear tabla de frecuencias de los datos segun m=raiz(n)\n",
        "m=np.sqrt(n)\n",
        "intervalo=((b-a)/int(m))\n",
        "for i in range(n):\n",
        "  if (arr[i]< a+intervalo):\n",
        "    s+=1\n",
        "  else :\n",
        "    frec.append(s)\n",
        "    a=a+intervalo\n",
        "    s=1\n",
        "print(frec)\n",
        "fei=intervalo*n\n",
        "#estimador \n",
        "for i in range (len(frec)) :\n",
        "  c+=(((frec[i]-(fei)))**2)/(fei)\n",
        "if (c<chi2.ppf(niv_conf, n-1)) : \n",
        "  print( \"No podemos rechasar la hipotesis de que los datos siguen una distribucon uniforme\")\n",
        "else:\n",
        "  print(\"los datos no siguen una distribucion uniforme\")"
      ],
      "metadata": {
        "id": "CP6XtJ83w5g0",
        "colab": {
          "base_uri": "https://localhost:8080/"
        },
        "outputId": "eedf9080-9155-4cc9-c7fb-40c9a4aaf81a"
      },
      "execution_count": 70,
      "outputs": [
        {
          "output_type": "stream",
          "name": "stdout",
          "text": [
            "[7, 5, 8, 9, 7, 7, 7]\n",
            "No podemos rechasar la hipotesis de que los datos siguen una distribucon uniforme\n"
          ]
        }
      ]
    },
    {
      "cell_type": "markdown",
      "source": [],
      "metadata": {
        "id": "JqXc33UGOaPD"
      }
    }
  ]
}